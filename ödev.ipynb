{
 "cells": [
  {
   "cell_type": "markdown",
   "metadata": {},
   "source": [
    "## ödev\n",
    "* gerçek bir regression veri seti (en az 3 x sütunu, 200 tane satırı olmalı) bulup mlr, plr, dt, rf algoritmalarını çalıştırıp r2, mae, mse skorlarını hesaplayınız.\n",
    "* train test split kullanınız\n",
    "* ödev dosyanızı gitlab/github hesabına push ederek yükleyiniz."
   ]
  },
  {
   "cell_type": "markdown",
   "metadata": {},
   "source": [
    "## yaş, kan basıncı, maksimum kalp atış hızı ve egzersizin neden olduğu ST depresyonuna bakarak kandaki kolesterol miktarını tahmin etme\n",
    "* age: yaş\n",
    "* trestbps: kan basıncı\n",
    "* chol: serumdaki kolestrol\n",
    "* trestbps: maksimum kalp atış hızı\n",
    "* oldpeak: egzersizin neden olduğu ST depresyonu"
   ]
  },
  {
   "cell_type": "code",
   "execution_count": 39,
   "metadata": {},
   "outputs": [
    {
     "name": "stdout",
     "output_type": "stream",
     "text": [
      "   age  sex  cp  trestbps  fbs  restecg  thalach  exang  oldpeak  slope ca  \\\n",
      "0   63    1   1       145    1        2      150      0      2.3      3  0   \n",
      "1   67    1   4       160    0        2      108      1      1.5      2  3   \n",
      "2   67    1   4       120    0        2      129      1      2.6      2  2   \n",
      "3   37    1   3       130    0        0      187      0      3.5      3  0   \n",
      "4   41    0   2       130    0        2      172      0      1.4      1  0   \n",
      "\n",
      "  thal  num  chol  \n",
      "0    6    0   233  \n",
      "1    3    2   286  \n",
      "2    7    1   229  \n",
      "3    3    0   250  \n",
      "4    3    0   204  \n"
     ]
    }
   ],
   "source": [
    "import pandas as pd\n",
    "import numpy as np\n",
    "import matplotlib.pyplot as plt\n",
    "from sklearn.linear_model import LinearRegression\n",
    "\n",
    "df=pd.read_csv(\"dataset_2190_cholesterol.csv\",sep=\",\")\n",
    "print(df.head())"
   ]
  },
  {
   "cell_type": "code",
   "execution_count": 40,
   "metadata": {},
   "outputs": [
    {
     "name": "stdout",
     "output_type": "stream",
     "text": [
      "   age  trestbps  thalach  oldpeak  chol\n",
      "0   63       145      150      2.3   233\n",
      "1   67       160      108      1.5   286\n",
      "2   67       120      129      2.6   229\n",
      "3   37       130      187      3.5   250\n",
      "4   41       130      172      1.4   204\n"
     ]
    }
   ],
   "source": [
    "df.drop([\"sex\",\"cp\",\"fbs\",\"restecg\",\"exang\",\"slope\",\"ca\",\"thal\",\"num\"],axis=1,inplace=True)\n",
    "print(df.head())"
   ]
  },
  {
   "cell_type": "code",
   "execution_count": 41,
   "metadata": {},
   "outputs": [
    {
     "name": "stdout",
     "output_type": "stream",
     "text": [
      "   YAŞ  KAN BASINCI  MAKSİMUM KALP ATIŞ HIZI  \\\n",
      "0   63          145                      150   \n",
      "1   67          160                      108   \n",
      "2   67          120                      129   \n",
      "3   37          130                      187   \n",
      "4   41          130                      172   \n",
      "\n",
      "   egzerzisin neden olduğu ST depresyonu  KOLESTEROL  \n",
      "0                                    2.3         233  \n",
      "1                                    1.5         286  \n",
      "2                                    2.6         229  \n",
      "3                                    3.5         250  \n",
      "4                                    1.4         204  \n"
     ]
    }
   ],
   "source": [
    "df.rename(columns ={'age':'YAŞ','trestbps':'KAN BASINCI','chol':'KOLESTEROL','thalach':'MAKSİMUM KALP ATIŞ HIZI','oldpeak':'egzerzisin neden olduğu ST depresyonu'}, inplace = True)\n",
    "print(df.head())"
   ]
  },
  {
   "cell_type": "code",
   "execution_count": 42,
   "metadata": {},
   "outputs": [],
   "source": [
    "#mlr\n",
    "linear_reg=LinearRegression()"
   ]
  },
  {
   "cell_type": "code",
   "execution_count": 44,
   "metadata": {},
   "outputs": [
    {
     "name": "stdout",
     "output_type": "stream",
     "text": [
      "[118.28007342] [[1.27650014 0.19697243 0.21397848 0.93274737]]\n",
      "226\n",
      "0.055923585174688095\n"
     ]
    }
   ],
   "source": [
    "x=df.iloc[:,0:4]\n",
    "y=df.iloc[:,4:5]\n",
    "\n",
    "mlr=LinearRegression()\n",
    "mlr.fit(x,y)\n",
    "\n",
    "print(mlr.intercept_,mlr.coef_)\n",
    "\n",
    "y_pred_mlr=mlr.predict([[40,150,120,1.8]])\n",
    "print(int(y_pred_mlr))\n",
    "print(mlr.score(x,y))"
   ]
  },
  {
   "cell_type": "code",
   "execution_count": 45,
   "metadata": {},
   "outputs": [
    {
     "name": "stdout",
     "output_type": "stream",
     "text": [
      "251\n",
      "0.13490385215287348\n"
     ]
    }
   ],
   "source": [
    "#plr\n",
    "from sklearn.preprocessing import PolynomialFeatures\n",
    "plr=PolynomialFeatures(degree=3)\n",
    "\n",
    "x_pol=plr.fit_transform(x)\n",
    "\n",
    "lr_pol=LinearRegression()\n",
    "lr_pol.fit(x_pol,y)\n",
    "\n",
    "xnew=plr.fit_transform([[40,150,120,1.8]])\n",
    "y_pred_pol=lr_pol.predict(xnew)\n",
    "print(int(y_pred_pol))\n",
    "print(lr_pol.score(x_pol,y))"
   ]
  },
  {
   "cell_type": "code",
   "execution_count": 46,
   "metadata": {},
   "outputs": [
    {
     "name": "stdout",
     "output_type": "stream",
     "text": [
      "mlr r2: 0.055923585174688095\n",
      "mlr mae: 38.121098096363106\n",
      "mlr mse: 2522.573599473949\n",
      "mlr rmse: 50.22522871499889\n"
     ]
    }
   ],
   "source": [
    "from sklearn.metrics import r2_score,mean_squared_error,mean_absolute_error\n",
    "\n",
    "mlr_pred=mlr.predict(x)\n",
    "\n",
    "print(\"mlr r2:\",r2_score(y,mlr_pred))#y,y_pred\n",
    "print(\"mlr mae:\",mean_absolute_error(y,mlr_pred))\n",
    "print(\"mlr mse:\",mean_squared_error(y,mlr_pred))\n",
    "print(\"mlr rmse:\",(mean_squared_error(y,mlr_pred)**0.5))"
   ]
  },
  {
   "cell_type": "code",
   "execution_count": 47,
   "metadata": {},
   "outputs": [
    {
     "name": "stdout",
     "output_type": "stream",
     "text": [
      "pol r2: 0.13490385215287348\n",
      "pol mae: 37.03101318755215\n",
      "pol mse: 2311.5382073913706\n",
      "pol rmse: 48.0784588708017\n"
     ]
    }
   ],
   "source": [
    "pol_pred=lr_pol.predict(x_pol)\n",
    "\n",
    "print(\"pol r2:\",r2_score(y,pol_pred))#y,y_pred\n",
    "print(\"pol mae:\",mean_absolute_error(y,pol_pred))\n",
    "print(\"pol mse:\",mean_squared_error(y,pol_pred))\n",
    "print(\"pol rmse:\",(mean_squared_error(y,pol_pred)**0.5))"
   ]
  },
  {
   "cell_type": "code",
   "execution_count": 48,
   "metadata": {},
   "outputs": [],
   "source": [
    "#rf\n",
    "from sklearn.tree import DecisionTreeRegressor\n",
    "from sklearn.metrics import r2_score,mean_absolute_error\n",
    "\n",
    "df=pd.read_csv(\"dataset_2190_cholesterol.csv\",sep=\",\")\n",
    "\n",
    "x=df.iloc[:,0:4].values\n",
    "y=df.iloc[:,4:5].values"
   ]
  },
  {
   "cell_type": "code",
   "execution_count": 49,
   "metadata": {},
   "outputs": [
    {
     "name": "stdout",
     "output_type": "stream",
     "text": [
      "tree_r2: 0.9608527131782946\n",
      "tree_mae: 0.009900990099009901\n"
     ]
    }
   ],
   "source": [
    "#dt\n",
    "tree_reg=DecisionTreeRegressor()\n",
    "tree_reg.fit(x,y)\n",
    "\n",
    "tree_pred=tree_reg.predict(x)\n",
    "print(\"tree_r2:\", r2_score(y,tree_pred))\n",
    "print(\"tree_mae:\", mean_absolute_error(y,tree_pred))"
   ]
  },
  {
   "cell_type": "code",
   "execution_count": 50,
   "metadata": {},
   "outputs": [
    {
     "name": "stdout",
     "output_type": "stream",
     "text": [
      "rf r2: 0.8060373606302038\n",
      "rf mae: 0.0990016501650165\n"
     ]
    }
   ],
   "source": [
    "from sklearn.ensemble import RandomForestRegressor\n",
    "rf=RandomForestRegressor(n_estimators=100, random_state=42)\n",
    "rf.fit(x,y.ravel())\n",
    "\n",
    "rf_pred=rf.predict(x)\n",
    "\n",
    "print(\"rf r2:\",r2_score(y,rf_pred))\n",
    "print(\"rf mae:\",mean_absolute_error(y,rf_pred))"
   ]
  },
  {
   "cell_type": "code",
   "execution_count": 51,
   "metadata": {},
   "outputs": [],
   "source": [
    "mlr=LinearRegression()\n",
    "mlr.fit(x,y)\n",
    "mlr_pred=mlr.predict(x)\n",
    "\n",
    "dt=DecisionTreeRegressor()\n",
    "dt.fit(x,y)\n",
    "dt_pred=dt.predict(x)\n",
    "\n",
    "rf=RandomForestRegressor(n_estimators=100,random_state=42)\n",
    "rf.fit(x,y.ravel())\n",
    "rf_pred=rf.predict(x)"
   ]
  },
  {
   "cell_type": "code",
   "execution_count": 52,
   "metadata": {},
   "outputs": [
    {
     "name": "stdout",
     "output_type": "stream",
     "text": [
      "mlr r2: 0.04205189523137376 mae: 0.24285430233784328\n",
      "dt r2: 0.9608527131782946 mae: 0.009900990099009901\n",
      "rf r2: 0.8060373606302038 mae: 0.0990016501650165\n"
     ]
    }
   ],
   "source": [
    "print(\"mlr\",\"r2:\",r2_score(y,mlr_pred),\"mae:\",mean_absolute_error(y,mlr_pred))\n",
    "print(\"dt\",\"r2:\",r2_score(y,dt_pred),\"mae:\",mean_absolute_error(y,dt_pred))\n",
    "print(\"rf\",\"r2:\",r2_score(y,rf_pred),\"mae:\",mean_absolute_error(y,rf_pred))"
   ]
  },
  {
   "cell_type": "code",
   "execution_count": 71,
   "metadata": {},
   "outputs": [],
   "source": [
    "from sklearn.model_selection import train_test_split\n",
    "x_train,x_test,y_train,y_test=train_test_split(x,y,test_size=0.2,random_state=42)\n",
    "\n",
    "mlr=LinearRegression()\n",
    "mlr.fit(x_train,y_train)\n",
    "mlr_pred=mlr.predict(x_test)\n",
    "\n",
    "dt=DecisionTreeRegressor()\n",
    "dt.fit(x_train,y_train)\n",
    "dt_pred=dt.predict(x_test)\n",
    "\n",
    "rf=RandomForestRegressor(n_estimators=100,random_state=42)\n",
    "rf.fit(x_train,y_train.ravel())\n",
    "rf_pred=rf.predict(x_test)"
   ]
  },
  {
   "cell_type": "code",
   "execution_count": 72,
   "metadata": {},
   "outputs": [
    {
     "name": "stdout",
     "output_type": "stream",
     "text": [
      "mlr r2: 0.0036910449378594334 mae: 0.25808707613184456\n",
      "dt r2: -0.2448979591836733 mae: 0.19672131147540983\n",
      "rf r2: 0.10241416100544543 mae: 0.21860733801717405\n"
     ]
    }
   ],
   "source": [
    "print(\"mlr\",\"r2:\",r2_score(y_test,mlr_pred),\"mae:\",mean_absolute_error(y_test,mlr_pred))\n",
    "print(\"dt\",\"r2:\",r2_score(y_test,dt_pred),\"mae:\",mean_absolute_error(y_test,dt_pred))\n",
    "print(\"rf\",\"r2:\",r2_score(y_test,rf_pred),\"mae:\",mean_absolute_error(y_test,rf_pred))"
   ]
  },
  {
   "cell_type": "code",
   "execution_count": null,
   "metadata": {},
   "outputs": [],
   "source": []
  }
 ],
 "metadata": {
  "kernelspec": {
   "display_name": "Python 3",
   "language": "python",
   "name": "python3"
  },
  "language_info": {
   "codemirror_mode": {
    "name": "ipython",
    "version": 3
   },
   "file_extension": ".py",
   "mimetype": "text/x-python",
   "name": "python",
   "nbconvert_exporter": "python",
   "pygments_lexer": "ipython3",
   "version": "3.8.3"
  }
 },
 "nbformat": 4,
 "nbformat_minor": 4
}
