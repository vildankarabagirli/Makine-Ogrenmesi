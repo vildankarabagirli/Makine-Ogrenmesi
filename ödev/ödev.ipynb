{
 "cells": [
  {
   "cell_type": "markdown",
   "metadata": {},
   "source": [
    "## ödev\n",
    "* gerçek bir regression veri seti (en az 3 x sütunu, 200 tane satırı olmalı) bulup mlr, plr, dt, rf algoritmalarını çalıştırıp r2, mae, mse skorlarını hesaplayınız.\n",
    "* train test split kullanınız\n",
    "* ödev dosyanızı gitlab/github hesabına push ederek yükleyiniz."
   ]
  },
  {
   "cell_type": "code",
   "execution_count": 46,
   "metadata": {},
   "outputs": [
    {
     "name": "stdout",
     "output_type": "stream",
     "text": [
      "   1  0  63  1.1  -9  -9.1  -9.2  -9.3  1.2  145  ...  1.12  1.13  1.14  1.15  \\\n",
      "0  2  0  67    1  -9    -9    -9    -9    4  160  ...     1     1     1     1   \n",
      "1  3  0  67    1  -9    -9    -9    -9    4  120  ...     2     2     1     1   \n",
      "2  4  0  37    1  -9    -9    -9    -9    3  130  ...     1     1     1     1   \n",
      "3  6  0  41    0  -9    -9    -9    -9    2  130  ...     1     1     1     1   \n",
      "4  7  0  56    1  -9    -9    -9    -9    2  120  ...     1     1     1     1   \n",
      "\n",
      "   1.16  1.17  1.18  -9.19  -9.20  name  \n",
      "0     1     1     1     -9     -9  name  \n",
      "1     1     7     3     -9     -9  name  \n",
      "2     1     1     1     -9     -9  name  \n",
      "3     1     1     1     -9     -9  name  \n",
      "4     1     1     1     -9     -9  name  \n",
      "\n",
      "[5 rows x 76 columns]\n"
     ]
    }
   ],
   "source": [
    "import pandas as pd\n",
    "import numpy as np\n",
    "import matplotlib.pyplot as plt\n",
    "from sklearn.linear_model import LinearRegression\n",
    "\n",
    "df=pd.read_csv(\"heart_desease_regex.csv\",sep=\",\")\n",
    "print(df.head())"
   ]
  },
  {
   "cell_type": "code",
   "execution_count": 47,
   "metadata": {},
   "outputs": [],
   "source": [
    "#mlr\n",
    "linear_reg=LinearRegression()"
   ]
  },
  {
   "cell_type": "code",
   "execution_count": 72,
   "metadata": {},
   "outputs": [
    {
     "name": "stdout",
     "output_type": "stream",
     "text": [
      "[54.41678396] [[-0.00023677  0.        ]]\n",
      "54\n",
      "5.153917039479872e-06\n"
     ]
    }
   ],
   "source": [
    "x=df.iloc[:,0:2]\n",
    "y=df.iloc[:,2:3]\n",
    "\n",
    "mlr=LinearRegression()\n",
    "mlr.fit(x,y)\n",
    "\n",
    "print(mlr.intercept_,mlr.coef_)\n",
    "\n",
    "y_pred_mlr=mlr.predict([[67,24]])\n",
    "print(int(y_pred_mlr))\n",
    "print(mlr.score(x,y))"
   ]
  },
  {
   "cell_type": "code",
   "execution_count": 73,
   "metadata": {},
   "outputs": [
    {
     "name": "stdout",
     "output_type": "stream",
     "text": [
      "54\n",
      "0.0010245819067972173\n"
     ]
    }
   ],
   "source": [
    "#plr\n",
    "from sklearn.preprocessing import PolynomialFeatures\n",
    "plr=PolynomialFeatures(degree=3)\n",
    "\n",
    "x_pol=plr.fit_transform(x)\n",
    "\n",
    "lr_pol=LinearRegression()\n",
    "lr_pol.fit(x_pol,y)\n",
    "\n",
    "xnew=plr.fit_transform([[67,24]])\n",
    "y_pred_pol=lr_pol.predict(xnew)\n",
    "print(int(y_pred_pol))\n",
    "print(lr_pol.score(x_pol,y))"
   ]
  },
  {
   "cell_type": "code",
   "execution_count": 74,
   "metadata": {},
   "outputs": [
    {
     "name": "stdout",
     "output_type": "stream",
     "text": [
      "mlr r2: 5.153917039479872e-06\n",
      "mlr mae: 7.44860463674438\n",
      "mlr mse: 81.69444097194973\n",
      "mlr rmse: 9.038497716542818\n"
     ]
    }
   ],
   "source": [
    "from sklearn.metrics import r2_score,mean_squared_error,mean_absolute_error\n",
    "\n",
    "mlr_pred=mlr.predict(x)\n",
    "\n",
    "print(\"mlr r2:\",r2_score(y,mlr_pred))#y,y_pred\n",
    "print(\"mlr mae:\",mean_absolute_error(y,mlr_pred))\n",
    "print(\"mlr mse:\",mean_squared_error(y,mlr_pred))\n",
    "print(\"mlr rmse:\",(mean_squared_error(y,mlr_pred)**0.5))"
   ]
  },
  {
   "cell_type": "code",
   "execution_count": 75,
   "metadata": {},
   "outputs": [
    {
     "name": "stdout",
     "output_type": "stream",
     "text": [
      "pol r2: 0.0010245819067972173\n",
      "pol mae: 7.424886620784216\n",
      "pol mse: 81.61115894298663\n",
      "pol rmse: 9.033889469269958\n"
     ]
    }
   ],
   "source": [
    "pol_pred=lr_pol.predict(x_pol)\n",
    "\n",
    "print(\"pol r2:\",r2_score(y,pol_pred))#y,y_pred\n",
    "print(\"pol mae:\",mean_absolute_error(y,pol_pred))\n",
    "print(\"pol mse:\",mean_squared_error(y,pol_pred))\n",
    "print(\"pol rmse:\",(mean_squared_error(y,pol_pred)**0.5))"
   ]
  },
  {
   "cell_type": "code",
   "execution_count": 59,
   "metadata": {},
   "outputs": [],
   "source": [
    "#rf\n",
    "from sklearn.tree import DecisionTreeRegressor\n",
    "from sklearn.metrics import r2_score,mean_absolute_error\n",
    "\n",
    "df=pd.read_csv(\"heart_desease_regex.csv\",sep=\",\")\n",
    "\n",
    "x=df.iloc[:,0:2].values\n",
    "y=df.iloc[:,2:3].values"
   ]
  },
  {
   "cell_type": "code",
   "execution_count": 61,
   "metadata": {},
   "outputs": [
    {
     "name": "stdout",
     "output_type": "stream",
     "text": [
      "tree_r2: 1.0\n",
      "tree_mae: 0.0\n"
     ]
    }
   ],
   "source": [
    "tree_reg=DecisionTreeRegressor()\n",
    "tree_reg.fit(x,y)\n",
    "\n",
    "tree_pred=tree_reg.predict(x)\n",
    "print(\"tree_r2:\", r2_score(y,tree_pred))\n",
    "print(\"tree_mae:\", mean_absolute_error(y,tree_pred))"
   ]
  },
  {
   "cell_type": "code",
   "execution_count": 84,
   "metadata": {},
   "outputs": [
    {
     "name": "stderr",
     "output_type": "stream",
     "text": [
      "<ipython-input-84-c0913f002625>:3: DataConversionWarning: A column-vector y was passed when a 1d array was expected. Please change the shape of y to (n_samples,), for example using ravel().\n",
      "  rf.fit(x,y)\n"
     ]
    },
    {
     "name": "stdout",
     "output_type": "stream",
     "text": [
      "rf r2: 0.7926254458580361\n",
      "rf mae: 3.2830604982206406\n"
     ]
    }
   ],
   "source": [
    "from sklearn.ensemble import RandomForestRegressor\n",
    "rf=RandomForestRegressor(n_estimators=100, random_state=42)\n",
    "rf.fit(x,y)\n",
    "\n",
    "rf_pred=rf.predict(x)\n",
    "\n",
    "print(\"rf r2:\",r2_score(y,rf_pred))\n",
    "print(\"rf mae:\",mean_absolute_error(y,rf_pred))"
   ]
  },
  {
   "cell_type": "code",
   "execution_count": 94,
   "metadata": {},
   "outputs": [
    {
     "name": "stderr",
     "output_type": "stream",
     "text": [
      "<ipython-input-94-88298a57218c>:10: DataConversionWarning: A column-vector y was passed when a 1d array was expected. Please change the shape of y to (n_samples,), for example using ravel().\n",
      "  rf.fit(x,y)\n"
     ]
    }
   ],
   "source": [
    "mlr=LinearRegression()\n",
    "mlr.fit(x,y)\n",
    "mlr_pred=mlr.predict(x)\n",
    "\n",
    "dt=DecisionTreeRegressor()\n",
    "dt.fit(x,y)\n",
    "dt_pred=dt.predict(x)\n",
    "\n",
    "rf=RandomForestRegressor(n_estimators=100,random_state=42)\n",
    "rf.fit(x,y)\n",
    "rf_pred=rf.predict(x)"
   ]
  },
  {
   "cell_type": "code",
   "execution_count": 95,
   "metadata": {},
   "outputs": [
    {
     "name": "stdout",
     "output_type": "stream",
     "text": [
      "mlr r2: 5.153917039479872e-06 mae: 7.44860463674438\n",
      "dt r2: 1.0 mae: 0.0\n",
      "rf r2: 0.7926254458580361 mae: 3.2830604982206406\n"
     ]
    }
   ],
   "source": [
    "print(\"mlr\",\"r2:\",r2_score(y,mlr_pred),\"mae:\",mean_absolute_error(y,mlr_pred))\n",
    "print(\"dt\",\"r2:\",r2_score(y,dt_pred),\"mae:\",mean_absolute_error(y,dt_pred))\n",
    "print(\"rf\",\"r2:\",r2_score(y,rf_pred),\"mae:\",mean_absolute_error(y,rf_pred))"
   ]
  },
  {
   "cell_type": "code",
   "execution_count": 98,
   "metadata": {},
   "outputs": [
    {
     "name": "stderr",
     "output_type": "stream",
     "text": [
      "<ipython-input-98-1ab6678af0ad>:13: DataConversionWarning: A column-vector y was passed when a 1d array was expected. Please change the shape of y to (n_samples,), for example using ravel().\n",
      "  rf.fit(x_train,y_train)\n"
     ]
    }
   ],
   "source": [
    "from sklearn.model_selection import train_test_split\n",
    "x_train,x_test,y_train,y_test=train_test_split(x,y,test_size=0.1,random_state=42)\n",
    "\n",
    "mlr=LinearRegression()\n",
    "mlr.fit(x_train,y_train)\n",
    "mlr_pred=mlr.predict(x_test)\n",
    "\n",
    "dt=DecisionTreeRegressor()\n",
    "dt.fit(x_train,y_train)\n",
    "dt_pred=dt.predict(x_test)\n",
    "\n",
    "rf=RandomForestRegressor(n_estimators=100,random_state=42)\n",
    "rf.fit(x_train,y_train)\n",
    "rf_pred=rf.predict(x_test)"
   ]
  },
  {
   "cell_type": "code",
   "execution_count": 100,
   "metadata": {},
   "outputs": [
    {
     "name": "stdout",
     "output_type": "stream",
     "text": [
      "mlr r2: -0.02426869247484098 mae: 8.026760351199702\n",
      "dt r2: -1.2155237596696327 mae: 10.96551724137931\n",
      "rf r2: -0.7128600869539925 mae: 9.525172413793102\n"
     ]
    }
   ],
   "source": [
    "print(\"mlr\",\"r2:\",r2_score(y_test,mlr_pred),\"mae:\",mean_absolute_error(y_test,mlr_pred))\n",
    "print(\"dt\",\"r2:\",r2_score(y_test,dt_pred),\"mae:\",mean_absolute_error(y_test,dt_pred))\n",
    "print(\"rf\",\"r2:\",r2_score(y_test,rf_pred),\"mae:\",mean_absolute_error(y_test,rf_pred))"
   ]
  },
  {
   "cell_type": "code",
   "execution_count": null,
   "metadata": {},
   "outputs": [],
   "source": []
  }
 ],
 "metadata": {
  "kernelspec": {
   "display_name": "Python 3",
   "language": "python",
   "name": "python3"
  },
  "language_info": {
   "codemirror_mode": {
    "name": "ipython",
    "version": 3
   },
   "file_extension": ".py",
   "mimetype": "text/x-python",
   "name": "python",
   "nbconvert_exporter": "python",
   "pygments_lexer": "ipython3",
   "version": "3.8.3"
  }
 },
 "nbformat": 4,
 "nbformat_minor": 4
}
